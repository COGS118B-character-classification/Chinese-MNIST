{
 "cells": [
  {
   "cell_type": "code",
   "execution_count": 26,
   "id": "a86b40a8",
   "metadata": {},
   "outputs": [],
   "source": [
    "import numpy as np\n",
    "import pandas as pd\n",
    "from tqdm import tqdm"
   ]
  },
  {
   "cell_type": "code",
   "execution_count": 24,
   "id": "cd1cedbb",
   "metadata": {},
   "outputs": [],
   "source": [
    "df1 = pd.read_csv('../data/processed_chinese_mnist_part_1.csv')"
   ]
  },
  {
   "cell_type": "code",
   "execution_count": 25,
   "id": "489db387",
   "metadata": {},
   "outputs": [],
   "source": [
    "df2 = pd.read_csv('../data/processed_chinese_mnist_part_2.csv')"
   ]
  },
  {
   "cell_type": "code",
   "execution_count": 27,
   "id": "52345335",
   "metadata": {},
   "outputs": [
    {
     "data": {
      "text/plain": [
       "Index(['0', '1', '2', '3', '4', '5', '6', '7', '8', '9',\n",
       "       ...\n",
       "       '4086', '4087', '4088', '4089', '4090', '4091', '4092', '4093', '4094',\n",
       "       '4095'],\n",
       "      dtype='object', length=4096)"
      ]
     },
     "execution_count": 27,
     "metadata": {},
     "output_type": "execute_result"
    }
   ],
   "source": [
    "df1.columns[3:]"
   ]
  },
  {
   "cell_type": "code",
   "execution_count": 31,
   "id": "0abe1e4a",
   "metadata": {},
   "outputs": [
    {
     "name": "stderr",
     "output_type": "stream",
     "text": [
      "100%|██████████| 4096/4096 [07:41<00:00,  8.87it/s] \n"
     ]
    }
   ],
   "source": [
    "for i in tqdm((df1.columns[3:])):\n",
    "    df1[i] = df1[i] / 255"
   ]
  },
  {
   "cell_type": "code",
   "execution_count": 32,
   "id": "44e5344a",
   "metadata": {},
   "outputs": [
    {
     "name": "stderr",
     "output_type": "stream",
     "text": [
      "100%|██████████| 4096/4096 [04:03<00:00, 16.80it/s] \n"
     ]
    }
   ],
   "source": [
    "for i in tqdm((df2.columns[3:])):\n",
    "    df2[i] = df2[i] / 255"
   ]
  },
  {
   "cell_type": "code",
   "execution_count": 33,
   "id": "7ea48de1",
   "metadata": {},
   "outputs": [
    {
     "data": {
      "text/plain": [
       "0.000000    3645\n",
       "0.003922      70\n",
       "0.007843      59\n",
       "0.011765      54\n",
       "0.015686      34\n",
       "            ... \n",
       "0.321569       1\n",
       "0.082353       1\n",
       "0.196078       1\n",
       "0.333333       1\n",
       "0.062745       1\n",
       "Name: 1, Length: 86, dtype: int64"
      ]
     },
     "execution_count": 33,
     "metadata": {},
     "output_type": "execute_result"
    }
   ],
   "source": [
    "df1.iloc[1].value_counts()"
   ]
  },
  {
   "cell_type": "code",
   "execution_count": 36,
   "id": "822436ea",
   "metadata": {},
   "outputs": [],
   "source": [
    "df1.to_csv(\"processed_chinese_mnist_part_.csv\", index = False)"
   ]
  },
  {
   "cell_type": "code",
   "execution_count": 61,
   "id": "615e54f4",
   "metadata": {},
   "outputs": [],
   "source": [
    "df = df1.append(df2)"
   ]
  },
  {
   "cell_type": "code",
   "execution_count": 64,
   "id": "03850e36",
   "metadata": {},
   "outputs": [],
   "source": [
    "num = 0\n",
    "for i in range(5):\n",
    "    df.iloc[num: num + 3000].to_csv(f\"../data/processed_chinese_mnist_part_{i}.csv\", index = False)\n",
    "    num += 3000"
   ]
  },
  {
   "cell_type": "code",
   "execution_count": 59,
   "id": "f01069ea",
   "metadata": {},
   "outputs": [],
   "source": [
    "#code to read the data into one dataframe\n",
    "df = pd.DataFrame()\n",
    "for i in range(5):\n",
    "    df_temp = pd.read_csv(f'../data/processed_chinese_mnist_part_{i}.csv')\n",
    "    df = df.append(df_temp)\n",
    "df = df.reset_index(drop = True)"
   ]
  },
  {
   "cell_type": "code",
   "execution_count": 60,
   "id": "fb6dc686",
   "metadata": {},
   "outputs": [
    {
     "data": {
      "text/plain": [
       "1     1000\n",
       "10    1000\n",
       "11    1000\n",
       "12    1000\n",
       "13    1000\n",
       "14    1000\n",
       "15    1000\n",
       "2     1000\n",
       "3     1000\n",
       "4     1000\n",
       "5     1000\n",
       "6     1000\n",
       "7     1000\n",
       "8     1000\n",
       "9     1000\n",
       "Name: label, dtype: int64"
      ]
     },
     "execution_count": 60,
     "metadata": {},
     "output_type": "execute_result"
    }
   ],
   "source": [
    "df.label.value_counts()"
   ]
  },
  {
   "cell_type": "code",
   "execution_count": null,
   "id": "f1f36bd6",
   "metadata": {},
   "outputs": [],
   "source": []
  }
 ],
 "metadata": {
  "kernelspec": {
   "display_name": "Python 3 (clean)",
   "language": "python",
   "name": "python3_clean"
  },
  "language_info": {
   "codemirror_mode": {
    "name": "ipython",
    "version": 3
   },
   "file_extension": ".py",
   "mimetype": "text/x-python",
   "name": "python",
   "nbconvert_exporter": "python",
   "pygments_lexer": "ipython3",
   "version": "3.9.5"
  }
 },
 "nbformat": 4,
 "nbformat_minor": 5
}
