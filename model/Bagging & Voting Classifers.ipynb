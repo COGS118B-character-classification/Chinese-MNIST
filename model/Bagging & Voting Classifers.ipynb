{
 "cells": [
  {
   "cell_type": "markdown",
   "id": "0fe4b80b",
   "metadata": {},
   "source": [
    "# Import the packages"
   ]
  },
  {
   "cell_type": "code",
   "execution_count": 4,
   "id": "a164ecd1",
   "metadata": {},
   "outputs": [],
   "source": [
    "#conda install scikit-learn=1.0.1."
   ]
  },
  {
   "cell_type": "code",
   "execution_count": 5,
   "id": "3aaf2bde",
   "metadata": {},
   "outputs": [
    {
     "name": "stdout",
     "output_type": "stream",
     "text": [
      "The scikit-learn version is 0.24.2.\n"
     ]
    }
   ],
   "source": [
    "import numpy as np\n",
    "import pandas as pd\n",
    "import matplotlib.pyplot as plt\n",
    "import sklearn\n",
    "from sklearn.model_selection import train_test_split\n",
    "from sklearn import datasets, metrics, model_selection \n",
    "from sklearn.linear_model import LogisticRegression\n",
    "#from sklearn.calibration import CalibrationDisplay\n",
    "from sklearn import linear_model\n",
    "from sklearn.ensemble import RandomForestClassifier, VotingClassifier\n",
    "from sklearn.linear_model import SGDClassifier, LogisticRegression \n",
    "from sklearn.metrics import confusion_matrix, precision_score, recall_score, f1_score, r2_score\n",
    "from scipy import stats\n",
    "from sklearn.preprocessing import PolynomialFeatures\n",
    "from sklearn.svm import SVC\n",
    "from sklearn.ensemble import BaggingClassifier\n",
    "print('The scikit-learn version is {}.'.format(sklearn.__version__))"
   ]
  },
  {
   "cell_type": "markdown",
   "id": "dd07ee59",
   "metadata": {},
   "source": [
    "# Data Import"
   ]
  },
  {
   "cell_type": "code",
   "execution_count": 6,
   "id": "85193ee9",
   "metadata": {},
   "outputs": [],
   "source": [
    "df = pd.read_csv('../data/processed_chinese_mnist_part_1.csv').append(\n",
    "    pd.read_csv('../data/processed_chinese_mnist_part_2.csv')).reset_index(drop = True)"
   ]
  },
  {
   "cell_type": "code",
   "execution_count": 7,
   "id": "f499ab0d",
   "metadata": {},
   "outputs": [
    {
     "data": {
      "text/html": [
       "<div>\n",
       "<style scoped>\n",
       "    .dataframe tbody tr th:only-of-type {\n",
       "        vertical-align: middle;\n",
       "    }\n",
       "\n",
       "    .dataframe tbody tr th {\n",
       "        vertical-align: top;\n",
       "    }\n",
       "\n",
       "    .dataframe thead th {\n",
       "        text-align: right;\n",
       "    }\n",
       "</style>\n",
       "<table border=\"1\" class=\"dataframe\">\n",
       "  <thead>\n",
       "    <tr style=\"text-align: right;\">\n",
       "      <th></th>\n",
       "      <th>label</th>\n",
       "      <th>cn_label</th>\n",
       "      <th>value</th>\n",
       "      <th>0</th>\n",
       "      <th>1</th>\n",
       "      <th>2</th>\n",
       "      <th>3</th>\n",
       "      <th>4</th>\n",
       "      <th>5</th>\n",
       "      <th>6</th>\n",
       "      <th>...</th>\n",
       "      <th>4086</th>\n",
       "      <th>4087</th>\n",
       "      <th>4088</th>\n",
       "      <th>4089</th>\n",
       "      <th>4090</th>\n",
       "      <th>4091</th>\n",
       "      <th>4092</th>\n",
       "      <th>4093</th>\n",
       "      <th>4094</th>\n",
       "      <th>4095</th>\n",
       "    </tr>\n",
       "  </thead>\n",
       "  <tbody>\n",
       "    <tr>\n",
       "      <th>0</th>\n",
       "      <td>1</td>\n",
       "      <td>零</td>\n",
       "      <td>0</td>\n",
       "      <td>0.0</td>\n",
       "      <td>0.0</td>\n",
       "      <td>0.0</td>\n",
       "      <td>0.0</td>\n",
       "      <td>0.0</td>\n",
       "      <td>0.0</td>\n",
       "      <td>0.0</td>\n",
       "      <td>...</td>\n",
       "      <td>0.0</td>\n",
       "      <td>0.0</td>\n",
       "      <td>0.0</td>\n",
       "      <td>0.0</td>\n",
       "      <td>0.0</td>\n",
       "      <td>0.0</td>\n",
       "      <td>0.0</td>\n",
       "      <td>0.0</td>\n",
       "      <td>0.0</td>\n",
       "      <td>0.0</td>\n",
       "    </tr>\n",
       "    <tr>\n",
       "      <th>1</th>\n",
       "      <td>10</td>\n",
       "      <td>九</td>\n",
       "      <td>9</td>\n",
       "      <td>0.0</td>\n",
       "      <td>0.0</td>\n",
       "      <td>0.0</td>\n",
       "      <td>0.0</td>\n",
       "      <td>0.0</td>\n",
       "      <td>0.0</td>\n",
       "      <td>0.0</td>\n",
       "      <td>...</td>\n",
       "      <td>0.0</td>\n",
       "      <td>0.0</td>\n",
       "      <td>0.0</td>\n",
       "      <td>0.0</td>\n",
       "      <td>0.0</td>\n",
       "      <td>0.0</td>\n",
       "      <td>0.0</td>\n",
       "      <td>0.0</td>\n",
       "      <td>0.0</td>\n",
       "      <td>0.0</td>\n",
       "    </tr>\n",
       "    <tr>\n",
       "      <th>2</th>\n",
       "      <td>11</td>\n",
       "      <td>十</td>\n",
       "      <td>10</td>\n",
       "      <td>0.0</td>\n",
       "      <td>0.0</td>\n",
       "      <td>0.0</td>\n",
       "      <td>0.0</td>\n",
       "      <td>0.0</td>\n",
       "      <td>0.0</td>\n",
       "      <td>0.0</td>\n",
       "      <td>...</td>\n",
       "      <td>0.0</td>\n",
       "      <td>0.0</td>\n",
       "      <td>0.0</td>\n",
       "      <td>0.0</td>\n",
       "      <td>0.0</td>\n",
       "      <td>0.0</td>\n",
       "      <td>0.0</td>\n",
       "      <td>0.0</td>\n",
       "      <td>0.0</td>\n",
       "      <td>0.0</td>\n",
       "    </tr>\n",
       "    <tr>\n",
       "      <th>3</th>\n",
       "      <td>12</td>\n",
       "      <td>百</td>\n",
       "      <td>100</td>\n",
       "      <td>0.0</td>\n",
       "      <td>0.0</td>\n",
       "      <td>0.0</td>\n",
       "      <td>0.0</td>\n",
       "      <td>0.0</td>\n",
       "      <td>0.0</td>\n",
       "      <td>0.0</td>\n",
       "      <td>...</td>\n",
       "      <td>0.0</td>\n",
       "      <td>0.0</td>\n",
       "      <td>0.0</td>\n",
       "      <td>0.0</td>\n",
       "      <td>0.0</td>\n",
       "      <td>0.0</td>\n",
       "      <td>0.0</td>\n",
       "      <td>0.0</td>\n",
       "      <td>0.0</td>\n",
       "      <td>0.0</td>\n",
       "    </tr>\n",
       "    <tr>\n",
       "      <th>4</th>\n",
       "      <td>13</td>\n",
       "      <td>千</td>\n",
       "      <td>1000</td>\n",
       "      <td>0.0</td>\n",
       "      <td>0.0</td>\n",
       "      <td>0.0</td>\n",
       "      <td>0.0</td>\n",
       "      <td>0.0</td>\n",
       "      <td>0.0</td>\n",
       "      <td>0.0</td>\n",
       "      <td>...</td>\n",
       "      <td>0.0</td>\n",
       "      <td>0.0</td>\n",
       "      <td>0.0</td>\n",
       "      <td>0.0</td>\n",
       "      <td>0.0</td>\n",
       "      <td>0.0</td>\n",
       "      <td>0.0</td>\n",
       "      <td>0.0</td>\n",
       "      <td>0.0</td>\n",
       "      <td>0.0</td>\n",
       "    </tr>\n",
       "  </tbody>\n",
       "</table>\n",
       "<p>5 rows × 4099 columns</p>\n",
       "</div>"
      ],
      "text/plain": [
       "   label cn_label  value    0    1    2    3    4    5    6  ...  4086  4087  \\\n",
       "0      1        零      0  0.0  0.0  0.0  0.0  0.0  0.0  0.0  ...   0.0   0.0   \n",
       "1     10        九      9  0.0  0.0  0.0  0.0  0.0  0.0  0.0  ...   0.0   0.0   \n",
       "2     11        十     10  0.0  0.0  0.0  0.0  0.0  0.0  0.0  ...   0.0   0.0   \n",
       "3     12        百    100  0.0  0.0  0.0  0.0  0.0  0.0  0.0  ...   0.0   0.0   \n",
       "4     13        千   1000  0.0  0.0  0.0  0.0  0.0  0.0  0.0  ...   0.0   0.0   \n",
       "\n",
       "   4088  4089  4090  4091  4092  4093  4094  4095  \n",
       "0   0.0   0.0   0.0   0.0   0.0   0.0   0.0   0.0  \n",
       "1   0.0   0.0   0.0   0.0   0.0   0.0   0.0   0.0  \n",
       "2   0.0   0.0   0.0   0.0   0.0   0.0   0.0   0.0  \n",
       "3   0.0   0.0   0.0   0.0   0.0   0.0   0.0   0.0  \n",
       "4   0.0   0.0   0.0   0.0   0.0   0.0   0.0   0.0  \n",
       "\n",
       "[5 rows x 4099 columns]"
      ]
     },
     "execution_count": 7,
     "metadata": {},
     "output_type": "execute_result"
    }
   ],
   "source": [
    "df.head(5)"
   ]
  },
  {
   "cell_type": "markdown",
   "id": "60dba0e2",
   "metadata": {},
   "source": [
    "# Make it binary"
   ]
  },
  {
   "cell_type": "code",
   "execution_count": 8,
   "id": "a565909b",
   "metadata": {},
   "outputs": [],
   "source": [
    "df.label = df.label.apply(lambda x: 1 if x == 1 else 0)"
   ]
  },
  {
   "cell_type": "markdown",
   "id": "45c6a9a3",
   "metadata": {},
   "source": [
    "# Train Test Spilt"
   ]
  },
  {
   "cell_type": "code",
   "execution_count": 13,
   "id": "10814751",
   "metadata": {},
   "outputs": [],
   "source": [
    "X, y = df.iloc[:,3:], df.iloc[:,0]\n",
    "Xtrain, Xtest, ytrain, ytest = train_test_split(X, \n",
    "                                                    y, \n",
    "                                                    test_size=0.2)"
   ]
  },
  {
   "cell_type": "markdown",
   "id": "0a71105a",
   "metadata": {},
   "source": [
    "# Use 4 binary classifers"
   ]
  },
  {
   "cell_type": "code",
   "execution_count": 15,
   "id": "25672455",
   "metadata": {},
   "outputs": [],
   "source": [
    "#constructing 4 classifiers\n",
    "sgd_clf = SGDClassifier(random_state = 42,loss = 'modified_huber')\n",
    "model1 = sgd_clf.fit(Xtrain,ytrain)\n",
    "log_clf = LogisticRegression(solver=\"lbfgs\", random_state=42)\n",
    "rnd_clf = RandomForestClassifier(n_estimators=10, random_state=42)\n",
    "svm_clf = SVC(gamma=\"scale\", random_state=42, probability=True)\n",
    "\n",
    "#Fitting 4 models on training set\n",
    "model1 = sgd_clf.fit(Xtrain, ytrain)\n",
    "model2 = log_clf.fit(Xtrain, ytrain)\n",
    "model3 = rnd_clf.fit(Xtrain, ytrain)\n",
    "model4 = svm_clf.fit(Xtrain, ytrain)\n",
    "\n",
    "#Implemeting Bagging to reduce bias for first classifier\n",
    "bag_clf1 = BaggingClassifier(SGDClassifier(), n_estimators=500, max_samples=100, bootstrap=True, n_jobs=-1)\n",
    "model5 = bag_clf1.fit(Xtrain, ytrain)\n",
    "y_pred1 = bag_clf1.predict(Xtest)\n",
    "\n",
    "\n",
    "#Vote one time for classifiers w/o bagging\n",
    "voting_clf1 = VotingClassifier(\n",
    "estimators=[('sgd',sgd_clf),('lr', log_clf), ('rf', rnd_clf), ('svc', svm_clf)],\n",
    "voting='soft')\n",
    "final_model1 = voting_clf1.fit(Xtrain, ytrain)\n",
    "\n"
   ]
  },
  {
   "cell_type": "code",
   "execution_count": 17,
   "id": "4841c9ed",
   "metadata": {},
   "outputs": [
    {
     "data": {
      "text/plain": [
       "array([0, 0, 0, ..., 0, 0, 0])"
      ]
     },
     "execution_count": 17,
     "metadata": {},
     "output_type": "execute_result"
    }
   ],
   "source": [
    "y_pred1"
   ]
  },
  {
   "cell_type": "markdown",
   "id": "7a06d0e8",
   "metadata": {},
   "source": [
    "# Voting among the four binary classifers: SGD, Logistic Regression, Random Forest, and SVM\n",
    "\n"
   ]
  },
  {
   "cell_type": "code",
   "execution_count": 22,
   "id": "5e34d605",
   "metadata": {},
   "outputs": [
    {
     "data": {
      "text/plain": [
       "0.9979166666666667"
      ]
     },
     "execution_count": 22,
     "metadata": {},
     "output_type": "execute_result"
    }
   ],
   "source": [
    "voting_clf1.score(Xtrain, ytrain)"
   ]
  },
  {
   "cell_type": "code",
   "execution_count": 23,
   "id": "3bc536c2",
   "metadata": {},
   "outputs": [
    {
     "data": {
      "text/plain": [
       "0.9583333333333334"
      ]
     },
     "execution_count": 23,
     "metadata": {},
     "output_type": "execute_result"
    }
   ],
   "source": [
    "voting_clf1.score(Xtest, ytest)"
   ]
  },
  {
   "cell_type": "markdown",
   "id": "ac1706de",
   "metadata": {},
   "source": [
    "# Bagging : SGD classifer"
   ]
  },
  {
   "cell_type": "code",
   "execution_count": 19,
   "id": "57239b5d",
   "metadata": {},
   "outputs": [
    {
     "data": {
      "text/plain": [
       "0.9325"
      ]
     },
     "execution_count": 19,
     "metadata": {},
     "output_type": "execute_result"
    }
   ],
   "source": [
    "bag_clf1.score(Xtrain, ytrain)"
   ]
  },
  {
   "cell_type": "code",
   "execution_count": 21,
   "id": "d2c5294a",
   "metadata": {},
   "outputs": [
    {
     "data": {
      "text/plain": [
       "0.9366666666666666"
      ]
     },
     "execution_count": 21,
     "metadata": {},
     "output_type": "execute_result"
    }
   ],
   "source": [
    "bag_clf1.score(Xtest, ytest)"
   ]
  },
  {
   "cell_type": "code",
   "execution_count": 25,
   "id": "684d1e35",
   "metadata": {},
   "outputs": [],
   "source": [
    "bag_clf2 = BaggingClassifier(LogisticRegression(), n_estimators=500, max_samples=100, bootstrap=True, n_jobs=-1)\n",
    "model6 = bag_clf2.fit(Xtrain, ytrain)\n",
    "y_pred2 = bag_clf2.predict(Xtest)"
   ]
  },
  {
   "cell_type": "markdown",
   "id": "5f89d9ae",
   "metadata": {},
   "source": [
    "## Bagging: Logistic Regression makes a pretty good predictions"
   ]
  },
  {
   "cell_type": "code",
   "execution_count": 26,
   "id": "4ed18d59",
   "metadata": {},
   "outputs": [
    {
     "data": {
      "text/plain": [
       "0.9325"
      ]
     },
     "execution_count": 26,
     "metadata": {},
     "output_type": "execute_result"
    }
   ],
   "source": [
    "model6.score(Xtrain, ytrain)"
   ]
  },
  {
   "cell_type": "code",
   "execution_count": 29,
   "id": "8512ef2d",
   "metadata": {},
   "outputs": [
    {
     "data": {
      "text/plain": [
       "0.9366666666666666"
      ]
     },
     "execution_count": 29,
     "metadata": {},
     "output_type": "execute_result"
    }
   ],
   "source": [
    "model6.score(Xtest, ytest)"
   ]
  },
  {
   "cell_type": "markdown",
   "id": "189fd0df",
   "metadata": {},
   "source": [
    "# Try more bagging here"
   ]
  },
  {
   "cell_type": "code",
   "execution_count": 27,
   "id": "5c5f6a82",
   "metadata": {},
   "outputs": [],
   "source": [
    "bag_clf3 = BaggingClassifier(RandomForestClassifier(), n_estimators=500, max_samples=100, bootstrap=True, n_jobs=-1)\n",
    "model7 = bag_clf3.fit(Xtrain, ytrain)\n",
    "y_pred3 = bag_clf3.predict(Xtest)"
   ]
  },
  {
   "cell_type": "code",
   "execution_count": 28,
   "id": "ee51554a",
   "metadata": {},
   "outputs": [],
   "source": [
    "bag_clf4 = BaggingClassifier(SVC(), n_estimators=500, max_samples=100, bootstrap=True, n_jobs=-1)\n",
    "model8 = bag_clf4.fit(Xtrain, ytrain)\n",
    "y_pred4 = bag_clf4.predict(Xtest)"
   ]
  },
  {
   "cell_type": "code",
   "execution_count": 32,
   "id": "f36e3cb9",
   "metadata": {},
   "outputs": [
    {
     "data": {
      "text/plain": [
       "0.9325"
      ]
     },
     "execution_count": 32,
     "metadata": {},
     "output_type": "execute_result"
    }
   ],
   "source": [
    "model7.score(Xtrain, ytrain)"
   ]
  },
  {
   "cell_type": "code",
   "execution_count": 33,
   "id": "5c0175ee",
   "metadata": {},
   "outputs": [
    {
     "data": {
      "text/plain": [
       "0.9366666666666666"
      ]
     },
     "execution_count": 33,
     "metadata": {},
     "output_type": "execute_result"
    }
   ],
   "source": [
    "model7.score(Xtest, ytest)"
   ]
  },
  {
   "cell_type": "code",
   "execution_count": 34,
   "id": "8030ef05",
   "metadata": {},
   "outputs": [
    {
     "data": {
      "text/plain": [
       "0.9325"
      ]
     },
     "execution_count": 34,
     "metadata": {},
     "output_type": "execute_result"
    }
   ],
   "source": [
    "model8.score(Xtrain, ytrain)"
   ]
  },
  {
   "cell_type": "code",
   "execution_count": 35,
   "id": "9bce7212",
   "metadata": {},
   "outputs": [
    {
     "data": {
      "text/plain": [
       "0.9366666666666666"
      ]
     },
     "execution_count": 35,
     "metadata": {},
     "output_type": "execute_result"
    }
   ],
   "source": [
    "model8.score(Xtest, ytest)"
   ]
  },
  {
   "cell_type": "code",
   "execution_count": null,
   "id": "b5f647f7",
   "metadata": {},
   "outputs": [],
   "source": []
  }
 ],
 "metadata": {
  "kernelspec": {
   "display_name": "Python 3 (clean)",
   "language": "python",
   "name": "python3_clean"
  },
  "language_info": {
   "codemirror_mode": {
    "name": "ipython",
    "version": 3
   },
   "file_extension": ".py",
   "mimetype": "text/x-python",
   "name": "python",
   "nbconvert_exporter": "python",
   "pygments_lexer": "ipython3",
   "version": "3.9.5"
  }
 },
 "nbformat": 4,
 "nbformat_minor": 5
}
