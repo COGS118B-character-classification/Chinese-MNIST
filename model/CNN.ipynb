{
 "cells": [
  {
   "cell_type": "code",
   "execution_count": 1,
   "metadata": {},
   "outputs": [],
   "source": [
    "import numpy as np\n",
    "import pandas as pd\n",
    "import matplotlib.pyplot as plt\n",
    "import sklearn\n",
    "\n",
    "import torch\n",
    "import torchvision\n",
    "from tqdm.notebook import tqdm\n",
    "\n",
    "import torch.nn as nn\n",
    "import torch.nn.functional as F\n",
    "import torch.optim as optim"
   ]
  },
  {
   "cell_type": "code",
   "execution_count": 2,
   "metadata": {},
   "outputs": [],
   "source": [
    "#code to read the data into one dataframe\n",
    "df = pd.DataFrame()\n",
    "for i in range(5):\n",
    "    df_temp = pd.read_csv(f'../data/processed_chinese_mnist_part_{i}.csv')\n",
    "    df = df.append(df_temp)\n",
    "df = df.reset_index(drop = True)"
   ]
  },
  {
   "cell_type": "code",
   "execution_count": 3,
   "metadata": {},
   "outputs": [
    {
     "data": {
      "text/html": [
       "<div>\n",
       "<style scoped>\n",
       "    .dataframe tbody tr th:only-of-type {\n",
       "        vertical-align: middle;\n",
       "    }\n",
       "\n",
       "    .dataframe tbody tr th {\n",
       "        vertical-align: top;\n",
       "    }\n",
       "\n",
       "    .dataframe thead th {\n",
       "        text-align: right;\n",
       "    }\n",
       "</style>\n",
       "<table border=\"1\" class=\"dataframe\">\n",
       "  <thead>\n",
       "    <tr style=\"text-align: right;\">\n",
       "      <th></th>\n",
       "      <th>label</th>\n",
       "      <th>cn_label</th>\n",
       "      <th>value</th>\n",
       "      <th>0</th>\n",
       "      <th>1</th>\n",
       "      <th>2</th>\n",
       "      <th>3</th>\n",
       "      <th>4</th>\n",
       "      <th>5</th>\n",
       "      <th>6</th>\n",
       "      <th>...</th>\n",
       "      <th>4086</th>\n",
       "      <th>4087</th>\n",
       "      <th>4088</th>\n",
       "      <th>4089</th>\n",
       "      <th>4090</th>\n",
       "      <th>4091</th>\n",
       "      <th>4092</th>\n",
       "      <th>4093</th>\n",
       "      <th>4094</th>\n",
       "      <th>4095</th>\n",
       "    </tr>\n",
       "  </thead>\n",
       "  <tbody>\n",
       "    <tr>\n",
       "      <th>0</th>\n",
       "      <td>1</td>\n",
       "      <td>零</td>\n",
       "      <td>0</td>\n",
       "      <td>0.0</td>\n",
       "      <td>0.0</td>\n",
       "      <td>0.0</td>\n",
       "      <td>0.0</td>\n",
       "      <td>0.0</td>\n",
       "      <td>0.0</td>\n",
       "      <td>0.0</td>\n",
       "      <td>...</td>\n",
       "      <td>0.0</td>\n",
       "      <td>0.0</td>\n",
       "      <td>0.0</td>\n",
       "      <td>0.0</td>\n",
       "      <td>0.0</td>\n",
       "      <td>0.0</td>\n",
       "      <td>0.0</td>\n",
       "      <td>0.0</td>\n",
       "      <td>0.0</td>\n",
       "      <td>0.0</td>\n",
       "    </tr>\n",
       "    <tr>\n",
       "      <th>1</th>\n",
       "      <td>10</td>\n",
       "      <td>九</td>\n",
       "      <td>9</td>\n",
       "      <td>0.0</td>\n",
       "      <td>0.0</td>\n",
       "      <td>0.0</td>\n",
       "      <td>0.0</td>\n",
       "      <td>0.0</td>\n",
       "      <td>0.0</td>\n",
       "      <td>0.0</td>\n",
       "      <td>...</td>\n",
       "      <td>0.0</td>\n",
       "      <td>0.0</td>\n",
       "      <td>0.0</td>\n",
       "      <td>0.0</td>\n",
       "      <td>0.0</td>\n",
       "      <td>0.0</td>\n",
       "      <td>0.0</td>\n",
       "      <td>0.0</td>\n",
       "      <td>0.0</td>\n",
       "      <td>0.0</td>\n",
       "    </tr>\n",
       "    <tr>\n",
       "      <th>2</th>\n",
       "      <td>11</td>\n",
       "      <td>十</td>\n",
       "      <td>10</td>\n",
       "      <td>0.0</td>\n",
       "      <td>0.0</td>\n",
       "      <td>0.0</td>\n",
       "      <td>0.0</td>\n",
       "      <td>0.0</td>\n",
       "      <td>0.0</td>\n",
       "      <td>0.0</td>\n",
       "      <td>...</td>\n",
       "      <td>0.0</td>\n",
       "      <td>0.0</td>\n",
       "      <td>0.0</td>\n",
       "      <td>0.0</td>\n",
       "      <td>0.0</td>\n",
       "      <td>0.0</td>\n",
       "      <td>0.0</td>\n",
       "      <td>0.0</td>\n",
       "      <td>0.0</td>\n",
       "      <td>0.0</td>\n",
       "    </tr>\n",
       "    <tr>\n",
       "      <th>3</th>\n",
       "      <td>12</td>\n",
       "      <td>百</td>\n",
       "      <td>100</td>\n",
       "      <td>0.0</td>\n",
       "      <td>0.0</td>\n",
       "      <td>0.0</td>\n",
       "      <td>0.0</td>\n",
       "      <td>0.0</td>\n",
       "      <td>0.0</td>\n",
       "      <td>0.0</td>\n",
       "      <td>...</td>\n",
       "      <td>0.0</td>\n",
       "      <td>0.0</td>\n",
       "      <td>0.0</td>\n",
       "      <td>0.0</td>\n",
       "      <td>0.0</td>\n",
       "      <td>0.0</td>\n",
       "      <td>0.0</td>\n",
       "      <td>0.0</td>\n",
       "      <td>0.0</td>\n",
       "      <td>0.0</td>\n",
       "    </tr>\n",
       "    <tr>\n",
       "      <th>4</th>\n",
       "      <td>13</td>\n",
       "      <td>千</td>\n",
       "      <td>1000</td>\n",
       "      <td>0.0</td>\n",
       "      <td>0.0</td>\n",
       "      <td>0.0</td>\n",
       "      <td>0.0</td>\n",
       "      <td>0.0</td>\n",
       "      <td>0.0</td>\n",
       "      <td>0.0</td>\n",
       "      <td>...</td>\n",
       "      <td>0.0</td>\n",
       "      <td>0.0</td>\n",
       "      <td>0.0</td>\n",
       "      <td>0.0</td>\n",
       "      <td>0.0</td>\n",
       "      <td>0.0</td>\n",
       "      <td>0.0</td>\n",
       "      <td>0.0</td>\n",
       "      <td>0.0</td>\n",
       "      <td>0.0</td>\n",
       "    </tr>\n",
       "  </tbody>\n",
       "</table>\n",
       "<p>5 rows × 4099 columns</p>\n",
       "</div>"
      ],
      "text/plain": [
       "   label cn_label  value    0    1    2    3    4    5    6  ...  4086  4087  \\\n",
       "0      1        零      0  0.0  0.0  0.0  0.0  0.0  0.0  0.0  ...   0.0   0.0   \n",
       "1     10        九      9  0.0  0.0  0.0  0.0  0.0  0.0  0.0  ...   0.0   0.0   \n",
       "2     11        十     10  0.0  0.0  0.0  0.0  0.0  0.0  0.0  ...   0.0   0.0   \n",
       "3     12        百    100  0.0  0.0  0.0  0.0  0.0  0.0  0.0  ...   0.0   0.0   \n",
       "4     13        千   1000  0.0  0.0  0.0  0.0  0.0  0.0  0.0  ...   0.0   0.0   \n",
       "\n",
       "   4088  4089  4090  4091  4092  4093  4094  4095  \n",
       "0   0.0   0.0   0.0   0.0   0.0   0.0   0.0   0.0  \n",
       "1   0.0   0.0   0.0   0.0   0.0   0.0   0.0   0.0  \n",
       "2   0.0   0.0   0.0   0.0   0.0   0.0   0.0   0.0  \n",
       "3   0.0   0.0   0.0   0.0   0.0   0.0   0.0   0.0  \n",
       "4   0.0   0.0   0.0   0.0   0.0   0.0   0.0   0.0  \n",
       "\n",
       "[5 rows x 4099 columns]"
      ]
     },
     "execution_count": 3,
     "metadata": {},
     "output_type": "execute_result"
    }
   ],
   "source": [
    "df.head()"
   ]
  },
  {
   "cell_type": "markdown",
   "metadata": {},
   "source": [
    "Train test split, load everything in pytorch tensor"
   ]
  },
  {
   "cell_type": "code",
   "execution_count": 4,
   "metadata": {},
   "outputs": [
    {
     "data": {
      "text/plain": [
       "((12000, 4099), (3000, 4099))"
      ]
     },
     "execution_count": 4,
     "metadata": {},
     "output_type": "execute_result"
    }
   ],
   "source": [
    "train_test_ratio = 0.8\n",
    "df_train = df.iloc[:int(len(df) * train_test_ratio)]\n",
    "df_test = df.iloc[int(len(df) * train_test_ratio):]\n",
    "df_train.shape, df_test.shape"
   ]
  },
  {
   "cell_type": "code",
   "execution_count": 5,
   "metadata": {},
   "outputs": [],
   "source": [
    "## Alternatively (no longer used)\n",
    "\n",
    "# train_arr_data = df_train.iloc[:, 3:].values.reshape(12000, 64, 64)\n",
    "# test_arr_data = df_test.iloc[:, 3:].values.reshape(3000, 64, 64)\n",
    "\n",
    "# train_arr_data.shape, test_arr_data.shape\n",
    "\n",
    "# train_arr_target = df_train.iloc[:, 0].values\n",
    "# test_arr_target = df_test.iloc[:, 0].values\n",
    "\n",
    "# train_arr_target.shape, test_arr_target.shape\n",
    "\n",
    "# device = 'cpu'\n",
    "\n",
    "# training_data = torch.FloatTensor(train_arr_data).to(device)\n",
    "# training_data.shape\n",
    "\n",
    "# training_target = torch.LongTensor(train_arr_target).to(device)\n",
    "# train_arr_target.shape\n",
    "\n",
    "# testing_data = torch.FloatTensor(test_arr_data).to(device)\n",
    "# testing_target = torch.LongTensor(test_arr_target).to(device)"
   ]
  },
  {
   "cell_type": "code",
   "execution_count": 6,
   "metadata": {},
   "outputs": [],
   "source": [
    "class ImgDataset():\n",
    "    \"\"\"\n",
    "    Dataset that contain the target, data as instance variables to feed \n",
    "    into torch dataloader. In order to properly load these properties, we\n",
    "    need it to have at least have the len() method and make sure that it is \n",
    "    subscriptable.\n",
    "    \"\"\"\n",
    "    def __init__(self, input_df):\n",
    "        \n",
    "        input_df = input_df.reset_index(drop = True)\n",
    "        \n",
    "        self.target = input_df['label']\n",
    "        \n",
    "        self.data = (input_df.iloc[:, 3:].values\n",
    "                    ).reshape(len(input_df), 1, 64, 64).astype(np.float32)\n",
    "        \n",
    "    def __len__(self):\n",
    "        \n",
    "        return len(self.target)\n",
    "    \n",
    "    def __getitem__(self, i):\n",
    "        \n",
    "        return self.data[i], self.target[i]"
   ]
  },
  {
   "cell_type": "code",
   "execution_count": 7,
   "metadata": {},
   "outputs": [],
   "source": [
    "trainDataSet = ImgDataset(df_train)\n",
    "testDataSet = ImgDataset(df_test)\n",
    "\n",
    "# Define batch size, which is how many samples you use for training in one iteration\n",
    "batch_size_train = 32 \n",
    "\n",
    "batch_size_test = 1024 \n",
    "\n",
    "# Create data loaders\n",
    "train_loader = torch.utils.data.DataLoader(trainDataSet,\n",
    "                                           batch_size=batch_size_train, \n",
    "                                           shuffle=True)\n",
    "test_loader = torch.utils.data.DataLoader(testDataSet,\n",
    "                                          batch_size=batch_size_test, \n",
    "                                          shuffle=True)"
   ]
  },
  {
   "cell_type": "code",
   "execution_count": 8,
   "metadata": {},
   "outputs": [
    {
     "data": {
      "application/vnd.jupyter.widget-view+json": {
       "model_id": "c2bb9079142e42c891ec92b0b36f0105",
       "version_major": 2,
       "version_minor": 0
      },
      "text/plain": [
       "  0%|          | 0/375 [00:00<?, ?it/s]"
      ]
     },
     "metadata": {},
     "output_type": "display_data"
    },
    {
     "data": {
      "text/plain": [
       "torch.Size([32, 1, 64, 64])"
      ]
     },
     "execution_count": 8,
     "metadata": {},
     "output_type": "execute_result"
    }
   ],
   "source": [
    "iterator = tqdm(train_loader, total=int(len(train_loader)))\n",
    "counter = 0\n",
    "for batch_idx, (data, target) in enumerate(iterator):\n",
    "    dataa, target = data.to('cpu'), target.to('cpu')\n",
    "    break\n",
    "dataa.shape"
   ]
  },
  {
   "cell_type": "code",
   "execution_count": 79,
   "metadata": {},
   "outputs": [
    {
     "name": "stdout",
     "output_type": "stream",
     "text": [
      "torch.Size([32, 10, 30, 30])\n",
      "torch.Size([32, 30, 13, 13])\n",
      "torch.Size([32, 5070])\n",
      "torch.Size([32, 300])\n"
     ]
    }
   ],
   "source": [
    "test = nn.MaxPool2d(2, 2)(F.relu(nn.Conv2d(1, 10, (5, 5))(dataa)))\n",
    "print(test.shape) #32, 20, 20, 20\n",
    "test = nn.MaxPool2d(2, 2)(F.relu(nn.Conv2d(10, 30, (5, 5))(test)))\n",
    "print(test.shape) #32, 50, 8, 8\n",
    "test = test.view(-1, 30 * 13 * 13)\n",
    "print(test.shape) #32, 3200\n",
    "test = F.relu(nn.Linear(5070, 300)(test))\n",
    "print(test.shape)"
   ]
  },
  {
   "cell_type": "code",
   "execution_count": 80,
   "metadata": {},
   "outputs": [
    {
     "data": {
      "text/plain": [
       "3200"
      ]
     },
     "execution_count": 80,
     "metadata": {},
     "output_type": "execute_result"
    }
   ],
   "source": [
    "50 * 8 * 8"
   ]
  },
  {
   "cell_type": "markdown",
   "metadata": {},
   "source": [
    "DL model"
   ]
  },
  {
   "cell_type": "code",
   "execution_count": 81,
   "metadata": {},
   "outputs": [],
   "source": [
    "def train(model, device, train_loader, optimizer, epoch, log_interval= 10000):\n",
    "    model.train()\n",
    "    counter = 0\n",
    "    for batch_idx, (data, target) in enumerate(train_loader):\n",
    "        data, target = data.to(device), target.to(device)\n",
    "        optimizer.zero_grad()\n",
    "        output = model(data)\n",
    "        loss = F.nll_loss(output, target)\n",
    "        loss.backward()\n",
    "        optimizer.step()\n",
    "        counter += 1\n",
    "        \n",
    "def test(model, device, test_loader, num_epoch = None, print_ = False):\n",
    "    model.eval()\n",
    "    test_loss = 0\n",
    "    correct = 0\n",
    "    with torch.no_grad():\n",
    "        for data, target in test_loader:\n",
    "            data, target = data.to(device), target.to(device)\n",
    "            output = model(data)\n",
    "            test_loss += F.nll_loss(output, target, reduction='sum').item() # sum up batch loss\n",
    "            pred = output.argmax(dim=1, keepdim=True) # get the index of the max log-probability\n",
    "            correct += pred.eq(target.view_as(pred)).sum().item()\n",
    "    test_loss /= len(test_loader.dataset)\n",
    "\n",
    "    if print_: print('Epoch {}: Test set Average loss: {:.4f}, Accuracy: {}/{} ({:.0f}%)'.format(\n",
    "        num_epoch,\n",
    "        test_loss, correct, len(test_loader.dataset),\n",
    "        100. * correct / len(test_loader.dataset)))"
   ]
  },
  {
   "cell_type": "code",
   "execution_count": null,
   "metadata": {},
   "outputs": [],
   "source": []
  },
  {
   "cell_type": "code",
   "execution_count": 82,
   "metadata": {},
   "outputs": [],
   "source": [
    "class CNN(nn.Module):\n",
    "    \"\"\"\n",
    "    This class defines the deep learning model that extends a Module class\n",
    "      The constructor of  class defines the layers of the model. \n",
    "      The forward() function defines how to forward propagate \n",
    "      input through the defined layers of the model.\n",
    "      Many layers are available, such as Linear for fully connected layers, \n",
    "      Conv2d for convolutional layers, and MaxPool2d for pooling layers.\n",
    "    \"\"\"\n",
    "    def __init__(self):\n",
    "        super().__init__()\n",
    "        \n",
    "        #initialize drop out function\n",
    "        self.dropout = nn.Dropout(p = 0.4)\n",
    "        #kernel size 5 and maxPool2d (2, 2)\n",
    "        self.pool = nn.MaxPool2d(2, 2)\n",
    "        \n",
    "        #starting shape: 32 (batch size), 1, 30, 30\n",
    "        self.conv1 = nn.Conv2d(1, 10, (5, 5)) \n",
    "        #1 channel to 10 channel, kernel size 5\n",
    "        self.conv2 = nn.Conv2d(10, 30, (5, 5)) \n",
    "        #5 channel to 30 channel, kernel size 5\n",
    "        \n",
    "        #similar to the coding tutorial, using 3 linear layers to reduce to 10 final output\n",
    "        #automatically cut down to 10 units\n",
    "        self.fc1 = nn.Linear(5070, 300)\n",
    "        self.fc2 = nn.Linear(300, 50)\n",
    "        self.fc3 = nn.Linear(50, 20)\n",
    "        self.activation = nn.LogSoftmax(dim = 1)\n",
    "        \n",
    "    def forward(self, x):\n",
    "        x = self.pool(F.relu(self.dropout(self.conv1(x))))\n",
    "        #shape: 32, 20, 30, 30\n",
    "        x = self.pool(F.relu(self.dropout(self.conv2(x))))\n",
    "        #shape: #32, 100, 13, 13\n",
    "        x = x.view(-1, 5070) #shape 32, 5070\n",
    "        x = F.relu(self.fc1(x)) #shape 32, 300\n",
    "        x = F.relu(self.fc2(x)) #shape 32, 50\n",
    "        x = self.activation(self.fc3(x)) #shape 32, 20\n",
    "        return x\n",
    "     "
   ]
  },
  {
   "cell_type": "code",
   "execution_count": 83,
   "metadata": {
    "scrolled": false
   },
   "outputs": [
    {
     "name": "stdout",
     "output_type": "stream",
     "text": [
      "Epoch 5: Test set Average loss: 1.3122, Accuracy: 1734/3000 (58%)\n",
      "Epoch 10: Test set Average loss: 0.7892, Accuracy: 2206/3000 (74%)\n",
      "Epoch 15: Test set Average loss: 0.7181, Accuracy: 2324/3000 (77%)\n",
      "Epoch 20: Test set Average loss: 0.6487, Accuracy: 2392/3000 (80%)\n",
      "Epoch 25: Test set Average loss: 0.6395, Accuracy: 2440/3000 (81%)\n",
      "Epoch 30: Test set Average loss: 0.5480, Accuracy: 2527/3000 (84%)\n",
      "Epoch 35: Test set Average loss: 0.4794, Accuracy: 2585/3000 (86%)\n",
      "Epoch 40: Test set Average loss: 0.4948, Accuracy: 2574/3000 (86%)\n",
      "Epoch 45: Test set Average loss: 0.6159, Accuracy: 2513/3000 (84%)\n",
      "Epoch 50: Test set Average loss: 0.5978, Accuracy: 2518/3000 (84%)\n",
      "Epoch 55: Test set Average loss: 0.5154, Accuracy: 2588/3000 (86%)\n",
      "Epoch 60: Test set Average loss: 0.6380, Accuracy: 2499/3000 (83%)\n",
      "Epoch 65: Test set Average loss: 0.6038, Accuracy: 2553/3000 (85%)\n",
      "Epoch 70: Test set Average loss: 0.5155, Accuracy: 2603/3000 (87%)\n",
      "Epoch 75: Test set Average loss: 0.6733, Accuracy: 2498/3000 (83%)\n",
      "Epoch 80: Test set Average loss: 0.5072, Accuracy: 2605/3000 (87%)\n",
      "Epoch 85: Test set Average loss: 0.5652, Accuracy: 2603/3000 (87%)\n",
      "Epoch 90: Test set Average loss: 0.7322, Accuracy: 2506/3000 (84%)\n",
      "Epoch 95: Test set Average loss: 0.6914, Accuracy: 2532/3000 (84%)\n",
      "Epoch 100: Test set Average loss: 0.5171, Accuracy: 2630/3000 (88%)\n",
      "Epoch 105: Test set Average loss: 0.6523, Accuracy: 2555/3000 (85%)\n",
      "Epoch 110: Test set Average loss: 0.6330, Accuracy: 2567/3000 (86%)\n",
      "Epoch 115: Test set Average loss: 0.5346, Accuracy: 2648/3000 (88%)\n",
      "Epoch 120: Test set Average loss: 0.8537, Accuracy: 2446/3000 (82%)\n",
      "Epoch 125: Test set Average loss: 0.5783, Accuracy: 2608/3000 (87%)\n",
      "Epoch 130: Test set Average loss: 0.4929, Accuracy: 2636/3000 (88%)\n",
      "Epoch 135: Test set Average loss: 0.5329, Accuracy: 2639/3000 (88%)\n",
      "Epoch 140: Test set Average loss: 0.6174, Accuracy: 2607/3000 (87%)\n",
      "Epoch 145: Test set Average loss: 0.5092, Accuracy: 2655/3000 (88%)\n",
      "Epoch 150: Test set Average loss: 0.5479, Accuracy: 2610/3000 (87%)\n",
      "Epoch 155: Test set Average loss: 0.5159, Accuracy: 2629/3000 (88%)\n",
      "Epoch 160: Test set Average loss: 0.5744, Accuracy: 2603/3000 (87%)\n",
      "Epoch 165: Test set Average loss: 0.6144, Accuracy: 2596/3000 (87%)\n",
      "Epoch 170: Test set Average loss: 0.6287, Accuracy: 2592/3000 (86%)\n",
      "Epoch 175: Test set Average loss: 0.5011, Accuracy: 2651/3000 (88%)\n",
      "Epoch 180: Test set Average loss: 0.5932, Accuracy: 2588/3000 (86%)\n",
      "Epoch 185: Test set Average loss: 0.4712, Accuracy: 2677/3000 (89%)\n",
      "Epoch 190: Test set Average loss: 0.5335, Accuracy: 2647/3000 (88%)\n",
      "Epoch 195: Test set Average loss: 0.7110, Accuracy: 2543/3000 (85%)\n",
      "Epoch 200: Test set Average loss: 0.6203, Accuracy: 2602/3000 (87%)\n"
     ]
    }
   ],
   "source": [
    "learning_rate = 0.01\n",
    "momentum = 0.8\n",
    "device = \"cuda\"\n",
    "model = CNN().to(device)\n",
    "optimizer = optim.SGD(model.parameters(), lr=learning_rate,\n",
    "                      momentum=momentum)\n",
    "num_epoch = 100\n",
    "\n",
    "for epoch in range(1, num_epoch + 1):\n",
    "    train(model, device, train_loader, optimizer, epoch)\n",
    "    if epoch % 5 == 0:\n",
    "        test(model, device, test_loader, epoch, print_ = True)\n",
    "    else:\n",
    "        test(model, device, test_loader, epoch)"
   ]
  },
  {
   "cell_type": "code",
   "execution_count": 42,
   "metadata": {},
   "outputs": [
    {
     "data": {
      "text/plain": [
       "array([4, 6, 9, ..., 7, 5, 4])"
      ]
     },
     "execution_count": 42,
     "metadata": {},
     "output_type": "execute_result"
    }
   ],
   "source": [
    "np.argmax(model(data).cpu().detach().numpy(), axis = 1)"
   ]
  },
  {
   "cell_type": "code",
   "execution_count": 43,
   "metadata": {},
   "outputs": [],
   "source": [
    "outputs = []\n",
    "with torch.no_grad():\n",
    "    for data, target in test_loader:\n",
    "        data, target = data.to(device), target.to(device)\n",
    "        outputs.append(np.argmax(model(data).cpu().detach().numpy(), axis = 1))"
   ]
  },
  {
   "cell_type": "code",
   "execution_count": 70,
   "metadata": {},
   "outputs": [
    {
     "data": {
      "text/plain": [
       "CNN(\n",
       "  (dropout): Dropout(p=0.4, inplace=False)\n",
       "  (pool): MaxPool2d(kernel_size=2, stride=2, padding=0, dilation=1, ceil_mode=False)\n",
       "  (conv1): Conv2d(1, 5, kernel_size=(5, 5), stride=(1, 1))\n",
       "  (conv2): Conv2d(5, 30, kernel_size=(5, 5), stride=(1, 1))\n",
       "  (fc1): Linear(in_features=5070, out_features=300, bias=True)\n",
       "  (fc2): Linear(in_features=300, out_features=50, bias=True)\n",
       "  (fc3): Linear(in_features=50, out_features=20, bias=True)\n",
       "  (activation): LogSoftmax(dim=1)\n",
       ")"
      ]
     },
     "execution_count": 70,
     "metadata": {},
     "output_type": "execute_result"
    }
   ],
   "source": [
    "model"
   ]
  },
  {
   "cell_type": "code",
   "execution_count": null,
   "metadata": {},
   "outputs": [],
   "source": []
  }
 ],
 "metadata": {
  "kernelspec": {
   "display_name": "Python 3 (ipykernel)",
   "language": "python",
   "name": "python3"
  },
  "language_info": {
   "codemirror_mode": {
    "name": "ipython",
    "version": 3
   },
   "file_extension": ".py",
   "mimetype": "text/x-python",
   "name": "python",
   "nbconvert_exporter": "python",
   "pygments_lexer": "ipython3",
   "version": "3.9.5"
  }
 },
 "nbformat": 4,
 "nbformat_minor": 4
}
