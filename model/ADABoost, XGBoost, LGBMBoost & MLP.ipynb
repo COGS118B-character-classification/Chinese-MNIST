{
 "cells": [
  {
   "cell_type": "code",
   "execution_count": 17,
   "id": "46f0ed83",
   "metadata": {},
   "outputs": [],
   "source": [
    "import numpy as np\n",
    "import pandas as pd\n",
    "import matplotlib.pyplot as plt\n",
    "import sklearn\n",
    "from sklearn.model_selection import train_test_split\n",
    "from sklearn import datasets, metrics, model_selection \n",
    "from sklearn.ensemble import AdaBoostClassifier\n",
    "from sklearn.calibration import CalibrationDisplay\n",
    "import xgboost as xgb\n",
    "import lightgbm as lgb\n",
    "from sklearn.ensemble import RandomForestClassifier"
   ]
  },
  {
   "cell_type": "code",
   "execution_count": 3,
   "id": "994dd80f",
   "metadata": {},
   "outputs": [],
   "source": [
    "#code to read the data into one dataframe\n",
    "df = pd.DataFrame()\n",
    "for i in range(5):\n",
    "    df_temp = pd.read_csv(f'../data/processed_chinese_mnist_part_{i}.csv')\n",
    "    df = df.append(df_temp)\n",
    "df = df.reset_index(drop = True)"
   ]
  },
  {
   "cell_type": "code",
   "execution_count": 4,
   "id": "d8fdab86",
   "metadata": {},
   "outputs": [
    {
     "data": {
      "text/plain": [
       "零    1000\n",
       "九    1000\n",
       "十    1000\n",
       "百    1000\n",
       "千    1000\n",
       "万    1000\n",
       "亿    1000\n",
       "一    1000\n",
       "二    1000\n",
       "三    1000\n",
       "四    1000\n",
       "五    1000\n",
       "六    1000\n",
       "七    1000\n",
       "八    1000\n",
       "Name: cn_label, dtype: int64"
      ]
     },
     "execution_count": 4,
     "metadata": {},
     "output_type": "execute_result"
    }
   ],
   "source": [
    "df.cn_label.value_counts()"
   ]
  },
  {
   "cell_type": "code",
   "execution_count": null,
   "id": "82129dcb",
   "metadata": {},
   "outputs": [],
   "source": [
    "X, y = df.iloc[:,3:], df.iloc[:,0]\n",
    "X_train, X_test, y_train, y_test = train_test_split(X, \n",
    "                                                    y, \n",
    "                                                    test_size=0.2)"
   ]
  },
  {
   "cell_type": "code",
   "execution_count": null,
   "id": "6b0c803e",
   "metadata": {},
   "outputs": [],
   "source": [
    "def calc_acc(preds, actual):\n",
    "    tf_vals = pd.Series(preds) == pd.Series(actual)\n",
    "    return sum(tf_vals)/len(tf_vals)"
   ]
  },
  {
   "cell_type": "markdown",
   "id": "f57d0cab",
   "metadata": {},
   "source": [
    "## ADABoost"
   ]
  },
  {
   "cell_type": "code",
   "execution_count": 19,
   "id": "1a34f40f",
   "metadata": {},
   "outputs": [
    {
     "data": {
      "text/plain": [
       "[(1.0, 50, 0.01),\n",
       " (1.0, 50, 0.1),\n",
       " (1.0, 50, 0.5),\n",
       " (1.0, 50, 1),\n",
       " (1.0, 100, 0.01),\n",
       " (1.0, 100, 0.1),\n",
       " (1.0, 100, 0.5),\n",
       " (1.0, 100, 1),\n",
       " (1.0, 200, 0.01),\n",
       " (1.0, 200, 0.1),\n",
       " (1.0, 200, 0.5),\n",
       " (1.0, 200, 1),\n",
       " (1.0, 300, 0.01),\n",
       " (1.0, 300, 0.1),\n",
       " (1.0, 300, 0.5),\n",
       " (1.0, 300, 1)]"
      ]
     },
     "execution_count": 19,
     "metadata": {},
     "output_type": "execute_result"
    }
   ],
   "source": [
    "# Tuning, report a basic performance of 0.2233\n",
    "score_lists = []\n",
    "n_est_candidates = [50, 100, 200, 300]\n",
    "rate_candidates = [0.01, 0.1, 0.5, 1]\n",
    "for test_n_est in n_est_candidates:\n",
    "    for test_lr in rate_candidates:\n",
    "        ada_mdl = AdaBoostClassifier(\n",
    "        base_estimator = RandomForestClassifier(),\n",
    "        n_estimators = test_n_est,\n",
    "        learning_rate = test_lr\n",
    "        )\n",
    "        ada_mdl.fit(X_train, y_train)\n",
    "        score_lists.append((ada_mdl.score(X_test, y_test), test_n_est, test_lr))\n",
    "score_lists"
   ]
  },
  {
   "cell_type": "code",
   "execution_count": 20,
   "id": "068c74f5",
   "metadata": {},
   "outputs": [
    {
     "data": {
      "text/plain": [
       "0.5733333333333334"
      ]
     },
     "execution_count": 20,
     "metadata": {},
     "output_type": "execute_result"
    }
   ],
   "source": [
    "# Pick the hypertuned parameters and push into test set to see its performance\n",
    "score_lists.sort(reverse = True)\n",
    "ada_n_estimators = score_lists[0][1]\n",
    "ada_lr = score_lists[0][2]\n",
    "ada_mdl = AdaBoostClassifier(\n",
    "    base_estimator = RandomForestClassifier(),\n",
    "    n_estimators = ada_n_estimators,\n",
    "    learning_rate = ada_lr\n",
    ")\n",
    "ada_mdl.fit(X_train, y_train)\n",
    "ada_mdl.score(X_test, y_test)"
   ]
  },
  {
   "cell_type": "markdown",
   "id": "0bf84e5b",
   "metadata": {},
   "source": [
    "## XGBoost"
   ]
  },
  {
   "cell_type": "code",
   "execution_count": 80,
   "id": "5128fbbb",
   "metadata": {},
   "outputs": [
    {
     "name": "stderr",
     "output_type": "stream",
     "text": [
      "C:\\Users\\liuhn\\miniconda3\\lib\\site-packages\\xgboost\\sklearn.py:1224: UserWarning: The use of label encoder in XGBClassifier is deprecated and will be removed in a future release. To remove this warning, do the following: 1) Pass option use_label_encoder=False when constructing XGBClassifier object; and 2) Encode your labels (y) as integers starting with 0, i.e. 0, 1, 2, ..., [num_class - 1].\n",
      "  warnings.warn(label_encoder_deprecation_msg, UserWarning)\n"
     ]
    },
    {
     "name": "stdout",
     "output_type": "stream",
     "text": [
      "[02:53:00] WARNING: C:/Users/Administrator/workspace/xgboost-win64_release_1.5.1/src/learner.cc:1115: Starting in XGBoost 1.3.0, the default evaluation metric used with the objective 'multi:softprob' was changed from 'merror' to 'mlogloss'. Explicitly set eval_metric if you'd like to restore the old behavior.\n"
     ]
    },
    {
     "data": {
      "text/plain": [
       "0.6276666666666667"
      ]
     },
     "execution_count": 80,
     "metadata": {},
     "output_type": "execute_result"
    }
   ],
   "source": [
    "xgb_mdl = xgb.XGBClassifier(\n",
    "    max_depth = 12,\n",
    "    learning_rate = 0.05\n",
    ")\n",
    "xgb_mdl.fit(X_train, y_train)\n",
    "xgb_mdl.score(X_test, y_test)"
   ]
  },
  {
   "cell_type": "markdown",
   "id": "e45e2692",
   "metadata": {},
   "source": [
    "## LightGBM"
   ]
  },
  {
   "cell_type": "code",
   "execution_count": 81,
   "id": "40388a46",
   "metadata": {},
   "outputs": [],
   "source": [
    "# Reports an initial accuracy score of 0.718\n",
    "lgb_scores = []\n",
    "for n in [31, 41, 61, 81, 101, 111]:\n",
    "    lgb_mdl = lgb.LGBMClassifier(\n",
    "        learning_rate = 0.05,\n",
    "        max_depth = 12,\n",
    "        num_leaves = n\n",
    "    )\n",
    "    lgb_mdl.fit(X_train, y_train)\n",
    "    lgb_scores.append((lgb_mdl.score(X_test, y_test), n))"
   ]
  },
  {
   "cell_type": "code",
   "execution_count": 83,
   "id": "7749924b",
   "metadata": {},
   "outputs": [
    {
     "data": {
      "text/plain": [
       "0.7186666666666667"
      ]
     },
     "execution_count": 83,
     "metadata": {},
     "output_type": "execute_result"
    }
   ],
   "source": [
    "# Pick the hypertuned parameters and push into test set to see its performance\n",
    "lgb_scores.sort(reverse = True)\n",
    "num_leaves = lgb_scores[0][1]\n",
    "lgb_mdl = lgb.LGBMClassifier(\n",
    "    max_depth = 12,\n",
    "    num_leaves = num_leaves\n",
    ")\n",
    "lgb_mdl.fit(X_train, y_train)\n",
    "lgb_mdl.score(X_test, y_test)"
   ]
  },
  {
   "cell_type": "markdown",
   "id": "b6cb290a",
   "metadata": {},
   "source": [
    "## MLP"
   ]
  },
  {
   "cell_type": "code",
   "execution_count": 44,
   "id": "3a8dbcb1",
   "metadata": {},
   "outputs": [],
   "source": [
    "import torch\n",
    "import numpy as np\n",
    "from matplotlib import pyplot as plt"
   ]
  },
  {
   "cell_type": "code",
   "execution_count": 73,
   "id": "951e8da1",
   "metadata": {},
   "outputs": [],
   "source": [
    "num_iter = 50\n",
    "learning_rate = 0.01\n",
    "batch_size = 64"
   ]
  },
  {
   "cell_type": "code",
   "execution_count": 64,
   "id": "4825c985",
   "metadata": {},
   "outputs": [],
   "source": [
    "def read_data(df_X, df_y):\n",
    "    imgs = torch.tensor(df_X.to_numpy()).float()\n",
    "    labels = torch.tensor(df_y.to_numpy()).long()\n",
    "    dataset = utils.TensorDataset(imgs,labels)\n",
    "    dataloader = utils.DataLoader(dataset, batch_size=batch_size, shuffle=True)\n",
    "    return dataloader"
   ]
  },
  {
   "cell_type": "code",
   "execution_count": 65,
   "id": "e17c6423",
   "metadata": {},
   "outputs": [],
   "source": [
    "# accuracy calculation\n",
    "def get_accuracy(logit, target, batch_size):\n",
    "    corrects = (torch.max(logit, 1)[1].view(target.size()).data == target.data).sum()\n",
    "    accuracy = 100.0 * corrects/batch_size\n",
    "    return accuracy.item()"
   ]
  },
  {
   "cell_type": "code",
   "execution_count": 76,
   "id": "d855830c",
   "metadata": {},
   "outputs": [],
   "source": [
    "def trainMLP(train_loader,val_loader):\n",
    "    # average training loss, one value per iteration (averaged over all batches in one iteration)\n",
    "    avg_train_loss = []\n",
    "    # average validation loss, one value per iteration (averaged over all batches in one iteration)\n",
    "    avg_val_loss = []\n",
    "    # record the lowest validation loss, used to determine early stopping (best model)\n",
    "    best_val_score = float('inf')\n",
    "    net = BaselineMLP()\n",
    "    criterion = nn.CrossEntropyLoss()\n",
    "    optimizer = torch.optim.Adam(net.parameters(), lr=learning_rate)\n",
    "    # for each iteration, iteratively train all batches\n",
    "    net = net.train()\n",
    "    i = 0\n",
    "    while i < num_iter:\n",
    "        train_running_loss = 0.0\n",
    "        train_acc = 0.0\n",
    "        for k, (images, labels) in enumerate(train_loader):\n",
    "            logits = net(images)\n",
    "            loss = criterion(logits, labels)\n",
    "            optimizer.zero_grad()\n",
    "            loss.backward()\n",
    "\n",
    "            optimizer.step()\n",
    "            \n",
    "            train_running_loss += loss.detach().item()\n",
    "            train_acc += get_accuracy(logits, labels, batch_size)\n",
    "        \n",
    "        val_loss = 0\n",
    "        for n, (val_images, val_labels) in enumerate(val_loader):\n",
    "            logits = net(val_images)\n",
    "            loss_temp = criterion(logits, val_labels)\n",
    "#             loss_temp.backward()\n",
    "#             optimizer.zero_grad()\n",
    "            val_loss += loss_temp.detach().item()\n",
    "            \n",
    "        avg_train_loss.append(train_running_loss/k)\n",
    "        avg_val_loss.append((evaluate(val_loader, net), net, val_loss/n))\n",
    "        i+=1\n",
    "        \n",
    "        net.eval()\n",
    "        print('Epoch: %d | Loss: %.4f | Train Accuracy: %.2f' \\\n",
    "          %(i, train_running_loss / k, train_acc/k))\n",
    "    net = avg_val_loss[-1][1]\n",
    "    avg_val_loss = [ls for evaluation, net, ls in avg_val_loss]\n",
    "    \n",
    "    return net, avg_train_loss, avg_val_loss"
   ]
  },
  {
   "cell_type": "code",
   "execution_count": 77,
   "id": "4c1b65da",
   "metadata": {},
   "outputs": [],
   "source": [
    "# Model Evaluation\n",
    "def evaluate(loader, net):\n",
    "    total = 0\n",
    "    correct = 0\n",
    "    # use model to get predictions\n",
    "    for X, y in loader:\n",
    "        outputs = net(X)\n",
    "        predictions = torch.argmax(outputs.data, 1)\n",
    "        \n",
    "        # total number of items in dataset\n",
    "        total += y.shape[0]\n",
    "\n",
    "        # number of correctly labeled items in dataset\n",
    "        correct += torch.sum(predictions == y)\n",
    "\n",
    "    # return fraction of correctly labeled items in dataset\n",
    "    return float(correct) / float(total)"
   ]
  },
  {
   "cell_type": "code",
   "execution_count": 78,
   "id": "f0e92061",
   "metadata": {},
   "outputs": [
    {
     "name": "stdout",
     "output_type": "stream",
     "text": [
      "Epoch: 1 | Loss: 2.4417 | Train Accuracy: 22.83\n",
      "Epoch: 2 | Loss: 1.9543 | Train Accuracy: 38.54\n",
      "Epoch: 3 | Loss: 1.7182 | Train Accuracy: 46.22\n",
      "Epoch: 4 | Loss: 1.5700 | Train Accuracy: 50.79\n",
      "Epoch: 5 | Loss: 1.4655 | Train Accuracy: 53.85\n",
      "Epoch: 6 | Loss: 1.3860 | Train Accuracy: 56.02\n",
      "Epoch: 7 | Loss: 1.3231 | Train Accuracy: 57.89\n",
      "Epoch: 8 | Loss: 1.2696 | Train Accuracy: 59.86\n",
      "Epoch: 9 | Loss: 1.2237 | Train Accuracy: 61.33\n",
      "Epoch: 10 | Loss: 1.1865 | Train Accuracy: 62.54\n",
      "Epoch: 11 | Loss: 1.1515 | Train Accuracy: 63.60\n",
      "Epoch: 12 | Loss: 1.1201 | Train Accuracy: 64.41\n",
      "Epoch: 13 | Loss: 1.0905 | Train Accuracy: 65.32\n",
      "Epoch: 14 | Loss: 1.0642 | Train Accuracy: 66.48\n",
      "Epoch: 15 | Loss: 1.0431 | Train Accuracy: 66.79\n",
      "Epoch: 16 | Loss: 1.0204 | Train Accuracy: 67.84\n",
      "Epoch: 17 | Loss: 0.9984 | Train Accuracy: 68.52\n",
      "Epoch: 18 | Loss: 0.9814 | Train Accuracy: 68.87\n",
      "Epoch: 19 | Loss: 0.9622 | Train Accuracy: 69.42\n",
      "Epoch: 20 | Loss: 0.9454 | Train Accuracy: 70.24\n",
      "Epoch: 21 | Loss: 0.9292 | Train Accuracy: 70.48\n",
      "Epoch: 22 | Loss: 0.9159 | Train Accuracy: 70.99\n",
      "Epoch: 23 | Loss: 0.9028 | Train Accuracy: 72.07\n",
      "Epoch: 24 | Loss: 0.8890 | Train Accuracy: 71.91\n",
      "Epoch: 25 | Loss: 0.8750 | Train Accuracy: 72.54\n",
      "Epoch: 26 | Loss: 0.8642 | Train Accuracy: 73.04\n",
      "Epoch: 27 | Loss: 0.8514 | Train Accuracy: 73.40\n",
      "Epoch: 28 | Loss: 0.8411 | Train Accuracy: 73.55\n",
      "Epoch: 29 | Loss: 0.8302 | Train Accuracy: 74.33\n",
      "Epoch: 30 | Loss: 0.8201 | Train Accuracy: 74.29\n",
      "Epoch: 31 | Loss: 0.8112 | Train Accuracy: 74.67\n",
      "Epoch: 32 | Loss: 0.8025 | Train Accuracy: 74.77\n",
      "Epoch: 33 | Loss: 0.7930 | Train Accuracy: 75.54\n",
      "Epoch: 34 | Loss: 0.7847 | Train Accuracy: 75.58\n",
      "Epoch: 35 | Loss: 0.7779 | Train Accuracy: 75.70\n",
      "Epoch: 36 | Loss: 0.7682 | Train Accuracy: 75.98\n",
      "Epoch: 37 | Loss: 0.7607 | Train Accuracy: 76.48\n",
      "Epoch: 38 | Loss: 0.7525 | Train Accuracy: 76.75\n",
      "Epoch: 39 | Loss: 0.7475 | Train Accuracy: 76.51\n",
      "Epoch: 40 | Loss: 0.7392 | Train Accuracy: 77.04\n",
      "Epoch: 41 | Loss: 0.7340 | Train Accuracy: 77.10\n",
      "Epoch: 42 | Loss: 0.7266 | Train Accuracy: 77.69\n",
      "Epoch: 43 | Loss: 0.7175 | Train Accuracy: 78.02\n",
      "Epoch: 44 | Loss: 0.7122 | Train Accuracy: 77.62\n",
      "Epoch: 45 | Loss: 0.7052 | Train Accuracy: 78.25\n",
      "Epoch: 46 | Loss: 0.6963 | Train Accuracy: 78.58\n",
      "Epoch: 47 | Loss: 0.6936 | Train Accuracy: 78.57\n",
      "Epoch: 48 | Loss: 0.6873 | Train Accuracy: 78.67\n",
      "Epoch: 49 | Loss: 0.6803 | Train Accuracy: 79.28\n",
      "Epoch: 50 | Loss: 0.6749 | Train Accuracy: 79.52\n",
      "Test accuracy: 0.3526666666666667\n"
     ]
    }
   ],
   "source": [
    "# Actual training process\n",
    "train_loader = read_data(X_train, y_train)\n",
    "test_loader = read_data(X_test, y_test)\n",
    "net, t_losses, v_losses = trainMLP(train_loader,test_loader)\n",
    "accuracy = evaluate(test_loader, net)\n",
    "print(\"Test accuracy: {}\".format(accuracy))"
   ]
  },
  {
   "cell_type": "code",
   "execution_count": 79,
   "id": "d9f10801",
   "metadata": {},
   "outputs": [
    {
     "data": {
      "image/png": "[encoded data removed]",
      "text/plain": [
       "<Figure size 432x288 with 1 Axes>"
      ]
     },
     "metadata": {
      "needs_background": "light"
     },
     "output_type": "display_data"
    }
   ],
   "source": [
    "# Loss plot\n",
    "plt.plot(t_losses)\n",
    "plt.plot(v_losses)\n",
    "plt.legend([\"training_loss\",\"validation_loss\"])\n",
    "plt.xlabel(\"Iteration\")\n",
    "plt.ylabel(\"Loss\")\n",
    "plt.title(\"Loss plot\")\n",
    "plt.show()"
   ]
  },
  {
   "cell_type": "code",
   "execution_count": 69,
   "id": "f684f2c8",
   "metadata": {},
   "outputs": [],
   "source": [
    "# PyTorch and neural network imports\n",
    "import torch\n",
    "import torch.nn as nn\n",
    "import torch.optim as optim\n",
    "import torch.utils.data as utils\n",
    "import numpy as np\n",
    "\n",
    "# set the randomness to keep reproducible results\n",
    "torch.manual_seed(0)\n",
    "np.random.seed(0)\n",
    "\n",
    "dummy = 1\n",
    "# input size to your mlp network\n",
    "mlp_input_size = 4096 # TODO1\n",
    "# final output size of your mlp network (output layer)\n",
    "mlp_output_size = 16 # TODO2\n",
    "# TODO3: you may need to experiment a bit (width of your hidden layer)\n",
    "mlp_hidden_size = 10\n",
    "\n",
    "class BaselineMLP(nn.Module):\n",
    "    def __init__(self):\n",
    "        \"\"\"\n",
    "        A multilayer perceptron model\n",
    "        Consists of one hidden layer and 1 output layer (all fully connected)\n",
    "        \"\"\"\n",
    "        super(BaselineMLP, self).__init__()\n",
    "        # a fully connected layer from input layer to hidden layer\n",
    "        # mlp_input_size denotes how many input neurons you have\n",
    "        # mlp_hiddent_size denotes how many hidden neurons you have\n",
    "        self.fc1 = nn.Linear(mlp_input_size, mlp_hidden_size)\n",
    "        # a fully connected layer from hidden layer to output layer\n",
    "        # mlp_output_size denotes how many output neurons you have\n",
    "        self.fc2 = nn.Linear(mlp_hidden_size, mlp_output_size)\n",
    "    \n",
    "    def forward(self, X):\n",
    "        \"\"\"\n",
    "        Pass the batch of images through each layer of the network, applying \n",
    "        logistic activation function after hidden layer.\n",
    "        \"\"\"\n",
    "        # pass X from input layer to hidden layer\n",
    "        out = self.fc1(X)\n",
    "        # apply an activation function to the output of hidden layer\n",
    "        out = torch.sigmoid(out)\n",
    "        # pass output from hidden layer to output layer\n",
    "        out = self.fc2(out)\n",
    "        # return the feed forward output\n",
    "        # you don't need to apply another activation function here if\n",
    "        # the loss function you use already implement it for you\n",
    "        return out"
   ]
  },
  {
   "cell_type": "code",
   "execution_count": null,
   "id": "74555d15",
   "metadata": {},
   "outputs": [],
   "source": []
  }
 ],
 "metadata": {
  "kernelspec": {
   "display_name": "Python 3 (ipykernel)",
   "language": "python",
   "name": "python3"
  },
  "language_info": {
   "codemirror_mode": {
    "name": "ipython",
    "version": 3
   },
   "file_extension": ".py",
   "mimetype": "text/x-python",
   "name": "python",
   "nbconvert_exporter": "python",
   "pygments_lexer": "ipython3",
   "version": "3.9.5"
  }
 },
 "nbformat": 4,
 "nbformat_minor": 5
}
